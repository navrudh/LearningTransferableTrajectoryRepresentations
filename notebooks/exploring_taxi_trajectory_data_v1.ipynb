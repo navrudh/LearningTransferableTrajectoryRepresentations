{
 "cells": [
  {
   "cell_type": "markdown",
   "source": [
    "```sh\n",
    "conda create -n rapids-0.19 -c rapidsai -c nvidia -c conda-forge \\\n",
    "    cudf=0.19 python=3.8 cudatoolkit=11.2\n",
    "```"
   ],
   "metadata": {
    "collapsed": false,
    "pycharm": {
     "name": "#%% md\n"
    }
   }
  },
  {
   "cell_type": "code",
   "execution_count": 1,
   "metadata": {
    "collapsed": true
   },
   "outputs": [],
   "source": [
    "import pandas as pd\n",
    "import numpy as np\n",
    "import math\n",
    "import json"
   ]
  },
  {
   "cell_type": "code",
   "execution_count": 2,
   "outputs": [],
   "source": [
    "cpu_types = {\n",
    "    'TRIP_ID': np.uint64,\n",
    "    'CALL_TYPE':     str,\n",
    "    'ORIGIN_CALL':   np.uint32,\n",
    "    'ORIGIN_STAND':  np.uint32,\n",
    "    'TAXI_ID':       np.uint64,\n",
    "    'TIMESTAMP':     np.uint64,\n",
    "    'DAY_TYPE':      str,\n",
    "    'MISSING_DATA':  bool,\n",
    "    'POLYLINE':      str,\n",
    "}\n",
    "\n",
    "panda_types = {\n",
    "    'TRIP_ID': np.uint64,\n",
    "    'CALL_TYPE':     str,\n",
    "    'ORIGIN_CALL':   str,\n",
    "    'ORIGIN_STAND':  str,\n",
    "    'TAXI_ID':       np.uint64,\n",
    "    'TIMESTAMP':     np.uint64,\n",
    "    'DAY_TYPE':      str,\n",
    "    'MISSING_DATA':  bool,\n",
    "    'POLYLINE':      str,\n",
    "}"
   ],
   "metadata": {
    "collapsed": false,
    "pycharm": {
     "name": "#%%\n"
    }
   }
  },
  {
   "cell_type": "code",
   "execution_count": 3,
   "outputs": [],
   "source": [
    "train_df = pd.read_csv(\"../data/train.csv\", dtype=panda_types)\n",
    "\n",
    "# train_df = np.genfromtxt(\"../data/train.csv\", delimiter=',')"
   ],
   "metadata": {
    "collapsed": false,
    "pycharm": {
     "name": "#%%\n"
    }
   }
  },
  {
   "cell_type": "code",
   "execution_count": 4,
   "outputs": [
    {
     "name": "stdout",
     "output_type": "stream",
     "text": [
      "<class 'pandas.core.frame.DataFrame'>\n",
      "RangeIndex: 1710670 entries, 0 to 1710669\n",
      "Data columns (total 9 columns):\n",
      " #   Column        Dtype \n",
      "---  ------        ----- \n",
      " 0   TRIP_ID       uint64\n",
      " 1   CALL_TYPE     object\n",
      " 2   ORIGIN_CALL   object\n",
      " 3   ORIGIN_STAND  object\n",
      " 4   TAXI_ID       uint64\n",
      " 5   TIMESTAMP     uint64\n",
      " 6   DAY_TYPE      object\n",
      " 7   MISSING_DATA  bool  \n",
      " 8   POLYLINE      object\n",
      "dtypes: bool(1), object(5), uint64(3)\n",
      "memory usage: 106.0+ MB\n"
     ]
    }
   ],
   "source": [
    "train_df.info()"
   ],
   "metadata": {
    "collapsed": false,
    "pycharm": {
     "name": "#%%\n"
    }
   }
  },
  {
   "cell_type": "code",
   "execution_count": 5,
   "outputs": [
    {
     "data": {
      "text/plain": "               TRIP_ID CALL_TYPE ORIGIN_CALL ORIGIN_STAND   TAXI_ID  \\\n0  1372636858620000589         C         NaN          NaN  20000589   \n1  1372637303620000596         B         NaN            7  20000596   \n2  1372636951620000320         C         NaN          NaN  20000320   \n3  1372636854620000520         C         NaN          NaN  20000520   \n4  1372637091620000337         C         NaN          NaN  20000337   \n\n    TIMESTAMP DAY_TYPE  MISSING_DATA  \\\n0  1372636858        A         False   \n1  1372637303        A         False   \n2  1372636951        A         False   \n3  1372636854        A         False   \n4  1372637091        A         False   \n\n                                            POLYLINE  \n0  [[-8.618643,41.141412],[-8.618499,41.141376],[...  \n1  [[-8.639847,41.159826],[-8.640351,41.159871],[...  \n2  [[-8.612964,41.140359],[-8.613378,41.14035],[-...  \n3  [[-8.574678,41.151951],[-8.574705,41.151942],[...  \n4  [[-8.645994,41.18049],[-8.645949,41.180517],[-...  ",
      "text/html": "<div>\n<style scoped>\n    .dataframe tbody tr th:only-of-type {\n        vertical-align: middle;\n    }\n\n    .dataframe tbody tr th {\n        vertical-align: top;\n    }\n\n    .dataframe thead th {\n        text-align: right;\n    }\n</style>\n<table border=\"1\" class=\"dataframe\">\n  <thead>\n    <tr style=\"text-align: right;\">\n      <th></th>\n      <th>TRIP_ID</th>\n      <th>CALL_TYPE</th>\n      <th>ORIGIN_CALL</th>\n      <th>ORIGIN_STAND</th>\n      <th>TAXI_ID</th>\n      <th>TIMESTAMP</th>\n      <th>DAY_TYPE</th>\n      <th>MISSING_DATA</th>\n      <th>POLYLINE</th>\n    </tr>\n  </thead>\n  <tbody>\n    <tr>\n      <th>0</th>\n      <td>1372636858620000589</td>\n      <td>C</td>\n      <td>NaN</td>\n      <td>NaN</td>\n      <td>20000589</td>\n      <td>1372636858</td>\n      <td>A</td>\n      <td>False</td>\n      <td>[[-8.618643,41.141412],[-8.618499,41.141376],[...</td>\n    </tr>\n    <tr>\n      <th>1</th>\n      <td>1372637303620000596</td>\n      <td>B</td>\n      <td>NaN</td>\n      <td>7</td>\n      <td>20000596</td>\n      <td>1372637303</td>\n      <td>A</td>\n      <td>False</td>\n      <td>[[-8.639847,41.159826],[-8.640351,41.159871],[...</td>\n    </tr>\n    <tr>\n      <th>2</th>\n      <td>1372636951620000320</td>\n      <td>C</td>\n      <td>NaN</td>\n      <td>NaN</td>\n      <td>20000320</td>\n      <td>1372636951</td>\n      <td>A</td>\n      <td>False</td>\n      <td>[[-8.612964,41.140359],[-8.613378,41.14035],[-...</td>\n    </tr>\n    <tr>\n      <th>3</th>\n      <td>1372636854620000520</td>\n      <td>C</td>\n      <td>NaN</td>\n      <td>NaN</td>\n      <td>20000520</td>\n      <td>1372636854</td>\n      <td>A</td>\n      <td>False</td>\n      <td>[[-8.574678,41.151951],[-8.574705,41.151942],[...</td>\n    </tr>\n    <tr>\n      <th>4</th>\n      <td>1372637091620000337</td>\n      <td>C</td>\n      <td>NaN</td>\n      <td>NaN</td>\n      <td>20000337</td>\n      <td>1372637091</td>\n      <td>A</td>\n      <td>False</td>\n      <td>[[-8.645994,41.18049],[-8.645949,41.180517],[-...</td>\n    </tr>\n  </tbody>\n</table>\n</div>"
     },
     "execution_count": 5,
     "metadata": {},
     "output_type": "execute_result"
    }
   ],
   "source": [
    "train_df.head()"
   ],
   "metadata": {
    "collapsed": false,
    "pycharm": {
     "name": "#%%\n"
    }
   }
  },
  {
   "cell_type": "code",
   "execution_count": 6,
   "outputs": [
    {
     "data": {
      "text/plain": "False    1710660\nTrue          10\nName: MISSING_DATA, dtype: int64"
     },
     "execution_count": 6,
     "metadata": {},
     "output_type": "execute_result"
    }
   ],
   "source": [
    "train_df['MISSING_DATA'].value_counts()"
   ],
   "metadata": {
    "collapsed": false,
    "pycharm": {
     "name": "#%%"
    }
   }
  },
  {
   "cell_type": "markdown",
   "source": [
    "## Total Rides By Each Taxi"
   ],
   "metadata": {
    "collapsed": false
   }
  },
  {
   "cell_type": "code",
   "execution_count": 7,
   "outputs": [
    {
     "data": {
      "text/plain": "20000080    10746\n20000403     9238\n20000066     8449\n20000364     7821\n20000483     7729\n            ...  \n20000911        2\n20000264        2\n20000931        1\n20000970        1\n20000940        1\nName: TAXI_ID, Length: 448, dtype: int64"
     },
     "execution_count": 7,
     "metadata": {},
     "output_type": "execute_result"
    }
   ],
   "source": [
    "taxi_counts = train_df['TAXI_ID'].value_counts()\n",
    "taxi_counts"
   ],
   "metadata": {
    "collapsed": false,
    "pycharm": {
     "name": "#%%"
    }
   }
  },
  {
   "cell_type": "markdown",
   "source": [
    "## Some Stats"
   ],
   "metadata": {
    "collapsed": false
   }
  },
  {
   "cell_type": "code",
   "execution_count": 8,
   "outputs": [
    {
     "name": "stdout",
     "output_type": "stream",
     "text": [
      "3818.4598214285716\n",
      "Taxis with more than 1000 trips: 429\n",
      "Max Trips By A Single Taxi (ID): 10746\n"
     ]
    }
   ],
   "source": [
    "print(taxi_counts.mean())\n",
    "print(\"Taxis with more than 1000 trips:\", (taxi_counts > 1000).sum())\n",
    "\n",
    "max_trips = taxi_counts.max()\n",
    "print(\"Max Trips By A Single Taxi (ID):\", max_trips)"
   ],
   "metadata": {
    "collapsed": false,
    "pycharm": {
     "name": "#%%\n"
    }
   }
  },
  {
   "cell_type": "markdown",
   "source": [
    "## Total Rides By Each Taxi; Then Bucketed By Bins of Size 1000"
   ],
   "metadata": {
    "collapsed": false,
    "pycharm": {
     "name": "#%% md\n"
    }
   }
  },
  {
   "cell_type": "code",
   "execution_count": 9,
   "outputs": [
    {
     "data": {
      "text/plain": "TAXI_ID\n(0, 1000]         19\n(1000, 2000]      31\n(2000, 3000]      95\n(3000, 4000]     108\n(4000, 5000]      81\n(5000, 6000]      77\n(6000, 7000]      26\n(7000, 8000]       8\n(8000, 9000]       1\n(9000, 10000]      1\nName: TAXI_ID, dtype: int64"
     },
     "execution_count": 9,
     "metadata": {},
     "output_type": "execute_result"
    }
   ],
   "source": [
    "ubound = int(math.ceil(max_trips / 1000))\n",
    "taxi_counts.groupby(pd.cut(taxi_counts, bins=list(np.arange(ubound) * 1000))).size()"
   ],
   "metadata": {
    "collapsed": false,
    "pycharm": {
     "name": "#%%\n"
    }
   }
  },
  {
   "cell_type": "code",
   "execution_count": 10,
   "outputs": [],
   "source": [
    "head = train_df.head()"
   ],
   "metadata": {
    "collapsed": false,
    "pycharm": {
     "name": "#%%\n"
    }
   }
  },
  {
   "cell_type": "code",
   "execution_count": 11,
   "outputs": [
    {
     "data": {
      "text/plain": "0    23\n1    19\n2    65\n3    43\n4    29\nName: POLYLINE, dtype: int64"
     },
     "execution_count": 11,
     "metadata": {},
     "output_type": "execute_result"
    }
   ],
   "source": [
    "head['POLYLINE'].map(lambda s: np.array(json.loads(s)).shape[0])"
   ],
   "metadata": {
    "collapsed": false,
    "pycharm": {
     "name": "#%%\n"
    }
   }
  },
  {
   "cell_type": "code",
   "execution_count": 12,
   "outputs": [],
   "source": [
    "train_df['POLYLINE_shape_0'] = train_df['POLYLINE'].apply(lambda s: np.array(json.loads(s)).shape[0])"
   ],
   "metadata": {
    "collapsed": false,
    "pycharm": {
     "name": "#%%\n"
    }
   }
  },
  {
   "cell_type": "code",
   "execution_count": 13,
   "outputs": [],
   "source": [
    "shapes = train_df['POLYLINE_shape_0'].to_numpy()"
   ],
   "metadata": {
    "collapsed": false,
    "pycharm": {
     "name": "#%%\n"
    }
   }
  },
  {
   "cell_type": "markdown",
   "source": [
    "## Trip Polyline Length"
   ],
   "metadata": {
    "collapsed": false,
    "pycharm": {
     "name": "#%% md\n"
    }
   }
  },
  {
   "cell_type": "code",
   "execution_count": 14,
   "outputs": [
    {
     "name": "stdout",
     "output_type": "stream",
     "text": [
      "16 1587085\n",
      "32 1169847\n",
      "64 351293\n",
      "128 46124\n",
      "256 8926\n",
      "512 1957\n",
      "1024 336\n",
      "2048 43\n",
      "4096 0\n",
      "8192 0\n",
      "16384 0\n",
      "32768 0\n"
     ]
    }
   ],
   "source": [
    "for pow in range(4, 16):\n",
    "    thres = 2 ** pow\n",
    "    print(thres, (shapes >= thres ).sum())\n"
   ],
   "metadata": {
    "collapsed": false,
    "pycharm": {
     "name": "#%%\n"
    }
   }
  },
  {
   "cell_type": "code",
   "execution_count": 15,
   "outputs": [],
   "source": [
    "# Prepare Dataset Experiments\n",
    "\n",
    "from numpy.lib.stride_tricks import sliding_window_view\n",
    "\n",
    "test = head['POLYLINE'].apply(lambda s: sliding_window_view(np.array(json.loads(s)), window_shape=4, axis=0))\n"
   ],
   "metadata": {
    "collapsed": false,
    "pycharm": {
     "name": "#%%\n"
    }
   }
  },
  {
   "cell_type": "code",
   "execution_count": 16,
   "outputs": [
    {
     "name": "stdout",
     "output_type": "stream",
     "text": [
      "[[[-8.618643 -8.618499 -8.620326 -8.622153]\n",
      "  [41.141412 41.141376 41.14251  41.143815]]\n",
      "\n",
      " [[-8.618499 -8.620326 -8.622153 -8.623953]\n",
      "  [41.141376 41.14251  41.143815 41.144373]]\n",
      "\n",
      " [[-8.620326 -8.622153 -8.623953 -8.62668 ]\n",
      "  [41.14251  41.143815 41.144373 41.144778]]\n",
      "\n",
      " [[-8.622153 -8.623953 -8.62668  -8.627373]\n",
      "  [41.143815 41.144373 41.144778 41.144697]]\n",
      "\n",
      " [[-8.623953 -8.62668  -8.627373 -8.630226]\n",
      "  [41.144373 41.144778 41.144697 41.14521 ]]\n",
      "\n",
      " [[-8.62668  -8.627373 -8.630226 -8.632746]\n",
      "  [41.144778 41.144697 41.14521  41.14692 ]]\n",
      "\n",
      " [[-8.627373 -8.630226 -8.632746 -8.631738]\n",
      "  [41.144697 41.14521  41.14692  41.148225]]\n",
      "\n",
      " [[-8.630226 -8.632746 -8.631738 -8.629938]\n",
      "  [41.14521  41.14692  41.148225 41.150385]]\n",
      "\n",
      " [[-8.632746 -8.631738 -8.629938 -8.62911 ]\n",
      "  [41.14692  41.148225 41.150385 41.151213]]\n",
      "\n",
      " [[-8.631738 -8.629938 -8.62911  -8.629128]\n",
      "  [41.148225 41.150385 41.151213 41.15124 ]]\n",
      "\n",
      " [[-8.629938 -8.62911  -8.629128 -8.628786]\n",
      "  [41.150385 41.151213 41.15124  41.152203]]\n",
      "\n",
      " [[-8.62911  -8.629128 -8.628786 -8.628687]\n",
      "  [41.151213 41.15124  41.152203 41.152374]]\n",
      "\n",
      " [[-8.629128 -8.628786 -8.628687 -8.628759]\n",
      "  [41.15124  41.152203 41.152374 41.152518]]\n",
      "\n",
      " [[-8.628786 -8.628687 -8.628759 -8.630838]\n",
      "  [41.152203 41.152374 41.152518 41.15268 ]]\n",
      "\n",
      " [[-8.628687 -8.628759 -8.630838 -8.632323]\n",
      "  [41.152374 41.152518 41.15268  41.153022]]\n",
      "\n",
      " [[-8.628759 -8.630838 -8.632323 -8.631144]\n",
      "  [41.152518 41.15268  41.153022 41.154489]]\n",
      "\n",
      " [[-8.630838 -8.632323 -8.631144 -8.630829]\n",
      "  [41.15268  41.153022 41.154489 41.154507]]\n",
      "\n",
      " [[-8.632323 -8.631144 -8.630829 -8.630829]\n",
      "  [41.153022 41.154489 41.154507 41.154516]]\n",
      "\n",
      " [[-8.631144 -8.630829 -8.630829 -8.630829]\n",
      "  [41.154489 41.154507 41.154516 41.154498]]\n",
      "\n",
      " [[-8.630829 -8.630829 -8.630829 -8.630838]\n",
      "  [41.154507 41.154516 41.154498 41.154489]]]\n",
      "5\n",
      "[[-8.618643 -8.618499 -8.620326 -8.622153]\n",
      " [41.141412 41.141376 41.14251  41.143815]]\n",
      "[[-8.618499 -8.620326 -8.622153 -8.623953]\n",
      " [41.141376 41.14251  41.143815 41.144373]]\n",
      "164\n"
     ]
    }
   ],
   "source": [
    "exploded = test.explode()\n",
    "print(test.iloc[0])\n",
    "print(test.size)\n",
    "print(exploded.iloc[0])\n",
    "print(exploded.iloc[1])\n",
    "print(exploded.size)"
   ],
   "metadata": {
    "collapsed": false,
    "pycharm": {
     "name": "#%%\n"
    }
   }
  },
  {
   "cell_type": "code",
   "execution_count": 17,
   "outputs": [],
   "source": [
    "test_list = head['POLYLINE'].apply(lambda s: json.loads(s))"
   ],
   "metadata": {
    "collapsed": false,
    "pycharm": {
     "name": "#%%\n"
    }
   }
  },
  {
   "cell_type": "code",
   "execution_count": 18,
   "outputs": [
    {
     "name": "stdout",
     "output_type": "stream",
     "text": [
      "[[-8.618643, 41.141412], [-8.618499, 41.141376], [-8.620326, 41.14251], [-8.622153, 41.143815], [-8.623953, 41.144373], [-8.62668, 41.144778], [-8.627373, 41.144697], [-8.630226, 41.14521], [-8.632746, 41.14692], [-8.631738, 41.148225], [-8.629938, 41.150385], [-8.62911, 41.151213], [-8.629128, 41.15124], [-8.628786, 41.152203], [-8.628687, 41.152374], [-8.628759, 41.152518], [-8.630838, 41.15268], [-8.632323, 41.153022], [-8.631144, 41.154489], [-8.630829, 41.154507], [-8.630829, 41.154516], [-8.630829, 41.154498], [-8.630838, 41.154489]]\n",
      "5\n",
      "[-8.618643, 41.141412]\n",
      "[-8.618499, 41.141376]\n",
      "179\n"
     ]
    }
   ],
   "source": [
    "exploded = test_list.explode()\n",
    "print(test_list.iloc[0])\n",
    "print(test_list.size)\n",
    "print(exploded.iloc[0])\n",
    "print(exploded.iloc[1])\n",
    "print(exploded.size)"
   ],
   "metadata": {
    "collapsed": false,
    "pycharm": {
     "name": "#%%\n"
    }
   }
  }
 ],
 "metadata": {
  "kernelspec": {
   "display_name": "Python 3",
   "language": "python",
   "name": "python3"
  },
  "language_info": {
   "codemirror_mode": {
    "name": "ipython",
    "version": 2
   },
   "file_extension": ".py",
   "mimetype": "text/x-python",
   "name": "python",
   "nbconvert_exporter": "python",
   "pygments_lexer": "ipython2",
   "version": "2.7.6"
  }
 },
 "nbformat": 4,
 "nbformat_minor": 0
}